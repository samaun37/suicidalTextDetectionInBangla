{
  "nbformat": 4,
  "nbformat_minor": 0,
  "metadata": {
    "colab": {
      "provenance": [],
      "mount_file_id": "1xdRFqrwYichXV7wnlwEZpe1L3qmq1b25",
      "authorship_tag": "ABX9TyPhgVliGt03kT8KVohMD24T",
      "include_colab_link": true
    },
    "kernelspec": {
      "name": "python3",
      "display_name": "Python 3"
    },
    "language_info": {
      "name": "python"
    }
  },
  "cells": [
    {
      "cell_type": "markdown",
      "metadata": {
        "id": "view-in-github",
        "colab_type": "text"
      },
      "source": [
        "<a href=\"https://colab.research.google.com/github/samaun37/suicidalTextDetectionInBangla/blob/main/suicidalTextInBangla.ipynb\" target=\"_parent\"><img src=\"https://colab.research.google.com/assets/colab-badge.svg\" alt=\"Open In Colab\"/></a>"
      ]
    },
    {
      "cell_type": "code",
      "execution_count": null,
      "metadata": {
        "id": "bnUgX4Ze_57_",
        "colab": {
          "base_uri": "https://localhost:8080/",
          "height": 73
        },
        "outputId": "a767c837-b22b-4879-c80a-424c26e5a985"
      },
      "outputs": [
        {
          "output_type": "display_data",
          "data": {
            "text/plain": [
              "<IPython.core.display.HTML object>"
            ],
            "text/html": [
              "\n",
              "     <input type=\"file\" id=\"files-89de6eaa-13f5-4906-99f0-9703f3bff296\" name=\"files[]\" multiple disabled\n",
              "        style=\"border:none\" />\n",
              "     <output id=\"result-89de6eaa-13f5-4906-99f0-9703f3bff296\">\n",
              "      Upload widget is only available when the cell has been executed in the\n",
              "      current browser session. Please rerun this cell to enable.\n",
              "      </output>\n",
              "      <script>// Copyright 2017 Google LLC\n",
              "//\n",
              "// Licensed under the Apache License, Version 2.0 (the \"License\");\n",
              "// you may not use this file except in compliance with the License.\n",
              "// You may obtain a copy of the License at\n",
              "//\n",
              "//      http://www.apache.org/licenses/LICENSE-2.0\n",
              "//\n",
              "// Unless required by applicable law or agreed to in writing, software\n",
              "// distributed under the License is distributed on an \"AS IS\" BASIS,\n",
              "// WITHOUT WARRANTIES OR CONDITIONS OF ANY KIND, either express or implied.\n",
              "// See the License for the specific language governing permissions and\n",
              "// limitations under the License.\n",
              "\n",
              "/**\n",
              " * @fileoverview Helpers for google.colab Python module.\n",
              " */\n",
              "(function(scope) {\n",
              "function span(text, styleAttributes = {}) {\n",
              "  const element = document.createElement('span');\n",
              "  element.textContent = text;\n",
              "  for (const key of Object.keys(styleAttributes)) {\n",
              "    element.style[key] = styleAttributes[key];\n",
              "  }\n",
              "  return element;\n",
              "}\n",
              "\n",
              "// Max number of bytes which will be uploaded at a time.\n",
              "const MAX_PAYLOAD_SIZE = 100 * 1024;\n",
              "\n",
              "function _uploadFiles(inputId, outputId) {\n",
              "  const steps = uploadFilesStep(inputId, outputId);\n",
              "  const outputElement = document.getElementById(outputId);\n",
              "  // Cache steps on the outputElement to make it available for the next call\n",
              "  // to uploadFilesContinue from Python.\n",
              "  outputElement.steps = steps;\n",
              "\n",
              "  return _uploadFilesContinue(outputId);\n",
              "}\n",
              "\n",
              "// This is roughly an async generator (not supported in the browser yet),\n",
              "// where there are multiple asynchronous steps and the Python side is going\n",
              "// to poll for completion of each step.\n",
              "// This uses a Promise to block the python side on completion of each step,\n",
              "// then passes the result of the previous step as the input to the next step.\n",
              "function _uploadFilesContinue(outputId) {\n",
              "  const outputElement = document.getElementById(outputId);\n",
              "  const steps = outputElement.steps;\n",
              "\n",
              "  const next = steps.next(outputElement.lastPromiseValue);\n",
              "  return Promise.resolve(next.value.promise).then((value) => {\n",
              "    // Cache the last promise value to make it available to the next\n",
              "    // step of the generator.\n",
              "    outputElement.lastPromiseValue = value;\n",
              "    return next.value.response;\n",
              "  });\n",
              "}\n",
              "\n",
              "/**\n",
              " * Generator function which is called between each async step of the upload\n",
              " * process.\n",
              " * @param {string} inputId Element ID of the input file picker element.\n",
              " * @param {string} outputId Element ID of the output display.\n",
              " * @return {!Iterable<!Object>} Iterable of next steps.\n",
              " */\n",
              "function* uploadFilesStep(inputId, outputId) {\n",
              "  const inputElement = document.getElementById(inputId);\n",
              "  inputElement.disabled = false;\n",
              "\n",
              "  const outputElement = document.getElementById(outputId);\n",
              "  outputElement.innerHTML = '';\n",
              "\n",
              "  const pickedPromise = new Promise((resolve) => {\n",
              "    inputElement.addEventListener('change', (e) => {\n",
              "      resolve(e.target.files);\n",
              "    });\n",
              "  });\n",
              "\n",
              "  const cancel = document.createElement('button');\n",
              "  inputElement.parentElement.appendChild(cancel);\n",
              "  cancel.textContent = 'Cancel upload';\n",
              "  const cancelPromise = new Promise((resolve) => {\n",
              "    cancel.onclick = () => {\n",
              "      resolve(null);\n",
              "    };\n",
              "  });\n",
              "\n",
              "  // Wait for the user to pick the files.\n",
              "  const files = yield {\n",
              "    promise: Promise.race([pickedPromise, cancelPromise]),\n",
              "    response: {\n",
              "      action: 'starting',\n",
              "    }\n",
              "  };\n",
              "\n",
              "  cancel.remove();\n",
              "\n",
              "  // Disable the input element since further picks are not allowed.\n",
              "  inputElement.disabled = true;\n",
              "\n",
              "  if (!files) {\n",
              "    return {\n",
              "      response: {\n",
              "        action: 'complete',\n",
              "      }\n",
              "    };\n",
              "  }\n",
              "\n",
              "  for (const file of files) {\n",
              "    const li = document.createElement('li');\n",
              "    li.append(span(file.name, {fontWeight: 'bold'}));\n",
              "    li.append(span(\n",
              "        `(${file.type || 'n/a'}) - ${file.size} bytes, ` +\n",
              "        `last modified: ${\n",
              "            file.lastModifiedDate ? file.lastModifiedDate.toLocaleDateString() :\n",
              "                                    'n/a'} - `));\n",
              "    const percent = span('0% done');\n",
              "    li.appendChild(percent);\n",
              "\n",
              "    outputElement.appendChild(li);\n",
              "\n",
              "    const fileDataPromise = new Promise((resolve) => {\n",
              "      const reader = new FileReader();\n",
              "      reader.onload = (e) => {\n",
              "        resolve(e.target.result);\n",
              "      };\n",
              "      reader.readAsArrayBuffer(file);\n",
              "    });\n",
              "    // Wait for the data to be ready.\n",
              "    let fileData = yield {\n",
              "      promise: fileDataPromise,\n",
              "      response: {\n",
              "        action: 'continue',\n",
              "      }\n",
              "    };\n",
              "\n",
              "    // Use a chunked sending to avoid message size limits. See b/62115660.\n",
              "    let position = 0;\n",
              "    do {\n",
              "      const length = Math.min(fileData.byteLength - position, MAX_PAYLOAD_SIZE);\n",
              "      const chunk = new Uint8Array(fileData, position, length);\n",
              "      position += length;\n",
              "\n",
              "      const base64 = btoa(String.fromCharCode.apply(null, chunk));\n",
              "      yield {\n",
              "        response: {\n",
              "          action: 'append',\n",
              "          file: file.name,\n",
              "          data: base64,\n",
              "        },\n",
              "      };\n",
              "\n",
              "      let percentDone = fileData.byteLength === 0 ?\n",
              "          100 :\n",
              "          Math.round((position / fileData.byteLength) * 100);\n",
              "      percent.textContent = `${percentDone}% done`;\n",
              "\n",
              "    } while (position < fileData.byteLength);\n",
              "  }\n",
              "\n",
              "  // All done.\n",
              "  yield {\n",
              "    response: {\n",
              "      action: 'complete',\n",
              "    }\n",
              "  };\n",
              "}\n",
              "\n",
              "scope.google = scope.google || {};\n",
              "scope.google.colab = scope.google.colab || {};\n",
              "scope.google.colab._files = {\n",
              "  _uploadFiles,\n",
              "  _uploadFilesContinue,\n",
              "};\n",
              "})(self);\n",
              "</script> "
            ]
          },
          "metadata": {}
        },
        {
          "output_type": "stream",
          "name": "stdout",
          "text": [
            "Saving suic_last.csv to suic_last.csv\n"
          ]
        }
      ],
      "source": [
        "from google.colab import files\n",
        "uploaded = files.upload()"
      ]
    },
    {
      "cell_type": "code",
      "source": [
        "uploaded = files.upload()"
      ],
      "metadata": {
        "colab": {
          "base_uri": "https://localhost:8080/",
          "height": 73
        },
        "id": "JP5AZxnAlePb",
        "outputId": "1fc2ce94-2e0c-4832-b714-991a0c23b2a7"
      },
      "execution_count": null,
      "outputs": [
        {
          "output_type": "display_data",
          "data": {
            "text/plain": [
              "<IPython.core.display.HTML object>"
            ],
            "text/html": [
              "\n",
              "     <input type=\"file\" id=\"files-2676db03-d694-4319-b126-9086656886d3\" name=\"files[]\" multiple disabled\n",
              "        style=\"border:none\" />\n",
              "     <output id=\"result-2676db03-d694-4319-b126-9086656886d3\">\n",
              "      Upload widget is only available when the cell has been executed in the\n",
              "      current browser session. Please rerun this cell to enable.\n",
              "      </output>\n",
              "      <script>// Copyright 2017 Google LLC\n",
              "//\n",
              "// Licensed under the Apache License, Version 2.0 (the \"License\");\n",
              "// you may not use this file except in compliance with the License.\n",
              "// You may obtain a copy of the License at\n",
              "//\n",
              "//      http://www.apache.org/licenses/LICENSE-2.0\n",
              "//\n",
              "// Unless required by applicable law or agreed to in writing, software\n",
              "// distributed under the License is distributed on an \"AS IS\" BASIS,\n",
              "// WITHOUT WARRANTIES OR CONDITIONS OF ANY KIND, either express or implied.\n",
              "// See the License for the specific language governing permissions and\n",
              "// limitations under the License.\n",
              "\n",
              "/**\n",
              " * @fileoverview Helpers for google.colab Python module.\n",
              " */\n",
              "(function(scope) {\n",
              "function span(text, styleAttributes = {}) {\n",
              "  const element = document.createElement('span');\n",
              "  element.textContent = text;\n",
              "  for (const key of Object.keys(styleAttributes)) {\n",
              "    element.style[key] = styleAttributes[key];\n",
              "  }\n",
              "  return element;\n",
              "}\n",
              "\n",
              "// Max number of bytes which will be uploaded at a time.\n",
              "const MAX_PAYLOAD_SIZE = 100 * 1024;\n",
              "\n",
              "function _uploadFiles(inputId, outputId) {\n",
              "  const steps = uploadFilesStep(inputId, outputId);\n",
              "  const outputElement = document.getElementById(outputId);\n",
              "  // Cache steps on the outputElement to make it available for the next call\n",
              "  // to uploadFilesContinue from Python.\n",
              "  outputElement.steps = steps;\n",
              "\n",
              "  return _uploadFilesContinue(outputId);\n",
              "}\n",
              "\n",
              "// This is roughly an async generator (not supported in the browser yet),\n",
              "// where there are multiple asynchronous steps and the Python side is going\n",
              "// to poll for completion of each step.\n",
              "// This uses a Promise to block the python side on completion of each step,\n",
              "// then passes the result of the previous step as the input to the next step.\n",
              "function _uploadFilesContinue(outputId) {\n",
              "  const outputElement = document.getElementById(outputId);\n",
              "  const steps = outputElement.steps;\n",
              "\n",
              "  const next = steps.next(outputElement.lastPromiseValue);\n",
              "  return Promise.resolve(next.value.promise).then((value) => {\n",
              "    // Cache the last promise value to make it available to the next\n",
              "    // step of the generator.\n",
              "    outputElement.lastPromiseValue = value;\n",
              "    return next.value.response;\n",
              "  });\n",
              "}\n",
              "\n",
              "/**\n",
              " * Generator function which is called between each async step of the upload\n",
              " * process.\n",
              " * @param {string} inputId Element ID of the input file picker element.\n",
              " * @param {string} outputId Element ID of the output display.\n",
              " * @return {!Iterable<!Object>} Iterable of next steps.\n",
              " */\n",
              "function* uploadFilesStep(inputId, outputId) {\n",
              "  const inputElement = document.getElementById(inputId);\n",
              "  inputElement.disabled = false;\n",
              "\n",
              "  const outputElement = document.getElementById(outputId);\n",
              "  outputElement.innerHTML = '';\n",
              "\n",
              "  const pickedPromise = new Promise((resolve) => {\n",
              "    inputElement.addEventListener('change', (e) => {\n",
              "      resolve(e.target.files);\n",
              "    });\n",
              "  });\n",
              "\n",
              "  const cancel = document.createElement('button');\n",
              "  inputElement.parentElement.appendChild(cancel);\n",
              "  cancel.textContent = 'Cancel upload';\n",
              "  const cancelPromise = new Promise((resolve) => {\n",
              "    cancel.onclick = () => {\n",
              "      resolve(null);\n",
              "    };\n",
              "  });\n",
              "\n",
              "  // Wait for the user to pick the files.\n",
              "  const files = yield {\n",
              "    promise: Promise.race([pickedPromise, cancelPromise]),\n",
              "    response: {\n",
              "      action: 'starting',\n",
              "    }\n",
              "  };\n",
              "\n",
              "  cancel.remove();\n",
              "\n",
              "  // Disable the input element since further picks are not allowed.\n",
              "  inputElement.disabled = true;\n",
              "\n",
              "  if (!files) {\n",
              "    return {\n",
              "      response: {\n",
              "        action: 'complete',\n",
              "      }\n",
              "    };\n",
              "  }\n",
              "\n",
              "  for (const file of files) {\n",
              "    const li = document.createElement('li');\n",
              "    li.append(span(file.name, {fontWeight: 'bold'}));\n",
              "    li.append(span(\n",
              "        `(${file.type || 'n/a'}) - ${file.size} bytes, ` +\n",
              "        `last modified: ${\n",
              "            file.lastModifiedDate ? file.lastModifiedDate.toLocaleDateString() :\n",
              "                                    'n/a'} - `));\n",
              "    const percent = span('0% done');\n",
              "    li.appendChild(percent);\n",
              "\n",
              "    outputElement.appendChild(li);\n",
              "\n",
              "    const fileDataPromise = new Promise((resolve) => {\n",
              "      const reader = new FileReader();\n",
              "      reader.onload = (e) => {\n",
              "        resolve(e.target.result);\n",
              "      };\n",
              "      reader.readAsArrayBuffer(file);\n",
              "    });\n",
              "    // Wait for the data to be ready.\n",
              "    let fileData = yield {\n",
              "      promise: fileDataPromise,\n",
              "      response: {\n",
              "        action: 'continue',\n",
              "      }\n",
              "    };\n",
              "\n",
              "    // Use a chunked sending to avoid message size limits. See b/62115660.\n",
              "    let position = 0;\n",
              "    do {\n",
              "      const length = Math.min(fileData.byteLength - position, MAX_PAYLOAD_SIZE);\n",
              "      const chunk = new Uint8Array(fileData, position, length);\n",
              "      position += length;\n",
              "\n",
              "      const base64 = btoa(String.fromCharCode.apply(null, chunk));\n",
              "      yield {\n",
              "        response: {\n",
              "          action: 'append',\n",
              "          file: file.name,\n",
              "          data: base64,\n",
              "        },\n",
              "      };\n",
              "\n",
              "      let percentDone = fileData.byteLength === 0 ?\n",
              "          100 :\n",
              "          Math.round((position / fileData.byteLength) * 100);\n",
              "      percent.textContent = `${percentDone}% done`;\n",
              "\n",
              "    } while (position < fileData.byteLength);\n",
              "  }\n",
              "\n",
              "  // All done.\n",
              "  yield {\n",
              "    response: {\n",
              "      action: 'complete',\n",
              "    }\n",
              "  };\n",
              "}\n",
              "\n",
              "scope.google = scope.google || {};\n",
              "scope.google.colab = scope.google.colab || {};\n",
              "scope.google.colab._files = {\n",
              "  _uploadFiles,\n",
              "  _uploadFilesContinue,\n",
              "};\n",
              "})(self);\n",
              "</script> "
            ]
          },
          "metadata": {}
        },
        {
          "output_type": "stream",
          "name": "stdout",
          "text": [
            "Saving suic_t1.csv to suic_t1.csv\n"
          ]
        }
      ]
    },
    {
      "cell_type": "code",
      "source": [
        "from wordcloud import WordCloud\n",
        "import numpy as np\n",
        "import pandas as pd\n",
        "from sklearn.model_selection import train_test_split\n",
        "!pip install neattext\n",
        "import neattext.functions as nfx\n",
        "import matplotlib.pyplot as plt\n",
        "import plotly.express as plx\n",
        "from sklearn.metrics import classification_report\n",
        "import keras\n",
        "from keras.layers import Embedding,Dense,LSTM,Bidirectional,GlobalMaxPooling1D,Input,Dropout\n",
        "from keras.callbacks import EarlyStopping,ReduceLROnPlateau\n",
        "from keras.models import Sequential\n",
        "import tensorflow as tf\n",
        "from sklearn.preprocessing import LabelEncoder\n",
        "from keras.preprocessing.text import Tokenizer\n",
        "from tqdm import tqdm\n",
        "import seaborn as sns\n",
        "import pickle\n",
        "import io\n",
        "df = pd.read_csv('suic_last.csv',names=['text', 'label'])"
      ],
      "metadata": {
        "id": "zY-5RSo1nftA"
      },
      "execution_count": null,
      "outputs": []
    },
    {
      "cell_type": "code",
      "source": [
        "df = df.dropna(subset = ['text'])"
      ],
      "metadata": {
        "id": "aD9fVqXm9vze"
      },
      "execution_count": null,
      "outputs": []
    },
    {
      "cell_type": "code",
      "source": [
        "import seaborn as sn\n",
        "sn.countplot(df['label'])\n",
        "plt.show()"
      ],
      "metadata": {
        "id": "9eZ7vycX-NDs",
        "colab": {
          "base_uri": "https://localhost:8080/",
          "height": 334
        },
        "outputId": "ed25b8b5-6c62-49fa-fcde-07775acedb39"
      },
      "execution_count": null,
      "outputs": [
        {
          "output_type": "stream",
          "name": "stderr",
          "text": [
            "/usr/local/lib/python3.8/dist-packages/seaborn/_decorators.py:36: FutureWarning: Pass the following variable as a keyword arg: x. From version 0.12, the only valid positional argument will be `data`, and passing other arguments without an explicit keyword will result in an error or misinterpretation.\n",
            "  warnings.warn(\n"
          ]
        },
        {
          "output_type": "display_data",
          "data": {
            "text/plain": [
              "<Figure size 432x288 with 1 Axes>"
            ],
            "image/png": "[encoded data removed]"
          },
          "metadata": {
            "needs_background": "light"
          }
        }
      ]
    },
    {
      "cell_type": "code",
      "source": [
        "df2 = pd.read_csv('suic_t1.csv')"
      ],
      "metadata": {
        "id": "753zZzqHl_Jg"
      },
      "execution_count": null,
      "outputs": []
    },
    {
      "cell_type": "code",
      "source": [
        "df2"
      ],
      "metadata": {
        "id": "BSi4gBfFmGyl",
        "outputId": "055a6bda-487f-4700-80e0-eaa4411096cc",
        "colab": {
          "base_uri": "https://localhost:8080/",
          "height": 49
        }
      },
      "execution_count": null,
      "outputs": [
        {
          "output_type": "execute_result",
          "data": {
            "text/plain": [
              "Empty DataFrame\n",
              "Columns: [আমি মরতে চাই এই দুনিয়াতে আর থাকতে চাই না জীবনে কষ্ট ছাড়া কিছু পেলাম না]\n",
              "Index: []"
            ],
            "text/html": [
              "\n",
              "  <div id=\"df-4174d415-e338-4c1e-9cc4-4c88d619c3dc\">\n",
              "    <div class=\"colab-df-container\">\n",
              "      <div>\n",
              "<style scoped>\n",
              "    .dataframe tbody tr th:only-of-type {\n",
              "        vertical-align: middle;\n",
              "    }\n",
              "\n",
              "    .dataframe tbody tr th {\n",
              "        vertical-align: top;\n",
              "    }\n",
              "\n",
              "    .dataframe thead th {\n",
              "        text-align: right;\n",
              "    }\n",
              "</style>\n",
              "<table border=\"1\" class=\"dataframe\">\n",
              "  <thead>\n",
              "    <tr style=\"text-align: right;\">\n",
              "      <th></th>\n",
              "      <th>আমি মরতে চাই এই দুনিয়াতে আর থাকতে চাই না জীবনে কষ্ট ছাড়া কিছু পেলাম না</th>\n",
              "    </tr>\n",
              "  </thead>\n",
              "  <tbody>\n",
              "  </tbody>\n",
              "</table>\n",
              "</div>\n",
              "      <button class=\"colab-df-convert\" onclick=\"convertToInteractive('df-4174d415-e338-4c1e-9cc4-4c88d619c3dc')\"\n",
              "              title=\"Convert this dataframe to an interactive table.\"\n",
              "              style=\"display:none;\">\n",
              "        \n",
              "  <svg xmlns=\"http://www.w3.org/2000/svg\" height=\"24px\"viewBox=\"0 0 24 24\"\n",
              "       width=\"24px\">\n",
              "    <path d=\"M0 0h24v24H0V0z\" fill=\"none\"/>\n",
              "    <path d=\"M18.56 5.44l.94 2.06.94-2.06 2.06-.94-2.06-.94-.94-2.06-.94 2.06-2.06.94zm-11 1L8.5 8.5l.94-2.06 2.06-.94-2.06-.94L8.5 2.5l-.94 2.06-2.06.94zm10 10l.94 2.06.94-2.06 2.06-.94-2.06-.94-.94-2.06-.94 2.06-2.06.94z\"/><path d=\"M17.41 7.96l-1.37-1.37c-.4-.4-.92-.59-1.43-.59-.52 0-1.04.2-1.43.59L10.3 9.45l-7.72 7.72c-.78.78-.78 2.05 0 2.83L4 21.41c.39.39.9.59 1.41.59.51 0 1.02-.2 1.41-.59l7.78-7.78 2.81-2.81c.8-.78.8-2.07 0-2.86zM5.41 20L4 18.59l7.72-7.72 1.47 1.35L5.41 20z\"/>\n",
              "  </svg>\n",
              "      </button>\n",
              "      \n",
              "  <style>\n",
              "    .colab-df-container {\n",
              "      display:flex;\n",
              "      flex-wrap:wrap;\n",
              "      gap: 12px;\n",
              "    }\n",
              "\n",
              "    .colab-df-convert {\n",
              "      background-color: #E8F0FE;\n",
              "      border: none;\n",
              "      border-radius: 50%;\n",
              "      cursor: pointer;\n",
              "      display: none;\n",
              "      fill: #1967D2;\n",
              "      height: 32px;\n",
              "      padding: 0 0 0 0;\n",
              "      width: 32px;\n",
              "    }\n",
              "\n",
              "    .colab-df-convert:hover {\n",
              "      background-color: #E2EBFA;\n",
              "      box-shadow: 0px 1px 2px rgba(60, 64, 67, 0.3), 0px 1px 3px 1px rgba(60, 64, 67, 0.15);\n",
              "      fill: #174EA6;\n",
              "    }\n",
              "\n",
              "    [theme=dark] .colab-df-convert {\n",
              "      background-color: #3B4455;\n",
              "      fill: #D2E3FC;\n",
              "    }\n",
              "\n",
              "    [theme=dark] .colab-df-convert:hover {\n",
              "      background-color: #434B5C;\n",
              "      box-shadow: 0px 1px 3px 1px rgba(0, 0, 0, 0.15);\n",
              "      filter: drop-shadow(0px 1px 2px rgba(0, 0, 0, 0.3));\n",
              "      fill: #FFFFFF;\n",
              "    }\n",
              "  </style>\n",
              "\n",
              "      <script>\n",
              "        const buttonEl =\n",
              "          document.querySelector('#df-4174d415-e338-4c1e-9cc4-4c88d619c3dc button.colab-df-convert');\n",
              "        buttonEl.style.display =\n",
              "          google.colab.kernel.accessAllowed ? 'block' : 'none';\n",
              "\n",
              "        async function convertToInteractive(key) {\n",
              "          const element = document.querySelector('#df-4174d415-e338-4c1e-9cc4-4c88d619c3dc');\n",
              "          const dataTable =\n",
              "            await google.colab.kernel.invokeFunction('convertToInteractive',\n",
              "                                                     [key], {});\n",
              "          if (!dataTable) return;\n",
              "\n",
              "          const docLinkHtml = 'Like what you see? Visit the ' +\n",
              "            '<a target=\"_blank\" href=https://colab.research.google.com/notebooks/data_table.ipynb>data table notebook</a>'\n",
              "            + ' to learn more about interactive tables.';\n",
              "          element.innerHTML = '';\n",
              "          dataTable['output_type'] = 'display_data';\n",
              "          await google.colab.output.renderOutput(dataTable, element);\n",
              "          const docLink = document.createElement('div');\n",
              "          docLink.innerHTML = docLinkHtml;\n",
              "          element.appendChild(docLink);\n",
              "        }\n",
              "      </script>\n",
              "    </div>\n",
              "  </div>\n",
              "  "
            ]
          },
          "metadata": {},
          "execution_count": 7
        }
      ]
    },
    {
      "cell_type": "code",
      "source": [
        "from sklearn.utils import shuffle\n",
        "df = shuffle(df)"
      ],
      "metadata": {
        "id": "G83aegDDzfJq"
      },
      "execution_count": null,
      "outputs": []
    },
    {
      "cell_type": "code",
      "source": [
        "import nltk\n",
        "from nltk.tokenize import word_tokenize"
      ],
      "metadata": {
        "id": "IqhkCygyu_N9"
      },
      "execution_count": null,
      "outputs": []
    },
    {
      "cell_type": "code",
      "source": [
        "sad = ['কাদঁতেছি','কান্না','কাঁদব','কাঁদা','কাঁদবো','কাদতেছিলাম','কেঁদেছি','কানার','কাঁদার','কাদছি',\n",
        "       'কষ্ট','কষ্টে','কষ্টের','দুঃখ','কষ্টটা','কষ্টতে','যন্ত্রণা','যন্ত্রনায়', 'যন্ত্রণার', 'যন্ত্রণাতে',\n",
        "       'বিষণ্নতা','বিষণ্ণ','বিষণ্ণতার','বিষণ্ণতায়','বিষণ্ণতাতে',\n",
        "       'বেদনাদায়ক','বেদনা','বেদনায়','বেদনাতে','বেদনার'\n",
        "       'একাকীত্ব','একা','একাকী','একাকীত্বের','একাকিত্বটা',\n",
        "       'ডিপ্রেশন','ডিপ্রেস','ডিপ্রেশনে','ডিপ্রেশনের',\n",
        "       'অসুস্থতা','অসুস্থতার','অসুস্থতায়','অসুস্থ',\n",
        "\n",
        "       ]"
      ],
      "metadata": {
        "id": "pqB3b0xc9tGo"
      },
      "execution_count": null,
      "outputs": []
    },
    {
      "cell_type": "code",
      "source": [
        "negative = ['খারাপ','খারাপভাবে',\n",
        "            'দুর্দশায়','দুর্দশা','দুর্দশার','দুর্দশাতে',\n",
        "            'মানসিক','মানসিকতা','মানসিকতার','মানসিকভাবে',\n",
        "            'ফাঁসানোর','ফাঁসানো','ব্যর্থতার',\n",
        "            'অভিশাপ',\n",
        "            'দুঃস্বপ্ন','বিরক্ত','বিরক্তিকর','বিরক্তির','বিরক্তি',\n",
        "            'ব্যাধি','রোগ','রোগে','রোগব্যাধি','রোগব্যাধির','রোগের','ব্যাধির',\n",
        "            'প্রতারণা','প্রতারিত','প্রতারণায়','প্রতারক',\n",
        "            'বিষাক্ত','বিষাক্তাতে','বিষাক্তায়','বিষাক্তকর',\n",
        "            'ধ্বংস','ধ্বংসে','ধ্বংসের',\n",
        "            'আঘাত','আঘাতে','আঘাতের'\n",
        "            'ক্ষতি','ক্ষতিকর','ক্ষতির','ক্ষতিতে','ক্ষতিকারক',\n",
        "            'ক্লান্ত','ক্লান্তি','ক্লান্তির',\n",
        "            ]"
      ],
      "metadata": {
        "id": "01nFOlur3s6b"
      },
      "execution_count": null,
      "outputs": []
    },
    {
      "cell_type": "code",
      "source": [
        "anger = ['রাগ','রাগের','রাগান্নিত',\n",
        "         ]"
      ],
      "metadata": {
        "id": "-YMlW4OR0gtc"
      },
      "execution_count": null,
      "outputs": []
    },
    {
      "cell_type": "code",
      "source": [
        "suicide = ['মেরে','মরতে','মরার','মরে','মারার','মরে যাবো','মরবো','মরবার','মরণ',\n",
        "           'মৃত্যুর','মৃত্যু','মৃত্যুতে','মরে',\n",
        "           'বেঁচে','বাঁচানোর','বাচার','বাঁচব','বাঁচতে','বাচার','বাচতে','বাচানো','বাচানোর','বাচাতে','বাঁচাতে','বাচি','বাচিনা',\n",
        "           'গলায়','গলাতে','দড়ি','ফাঁসি','কাটবো','ফাসি',\n",
        "           'দড়ি','দড়ির',\n",
        "           'ফাঁসি','ফাঁস','ফাঁসির','ফাঁসিতে','ফাস','ফাসির',\n",
        "           'বন্দুক','বন্দুকের','বড়ি','ট্যাবলেট','গুলি','চাকু','হাত','ব্লেইড','ব্লেইড','দা দিয়ে','ঘুমের ট্যাবলেট','বিষ',\n",
        "           'রক্ত', 'রক্তের', 'রক্ততে',\n",
        "           'কাটা', 'কাটবো', 'কাটতে', 'কাটছি', 'কেটেছি', 'কাটবার',\n",
        "           'বিষ', 'বিষের', 'চাকুর', 'চাকুতে',\n",
        "           'আত্মহত্যার','আত্মহত্যা','হত্যা','আত্মঘাতী','আত্মহত্যায়','আত্মহত্যাতে','হত্যার','হত্যাতে','হত্যা',\n",
        "           'ছেড়ে','পুড়িয়ে','পুড়ায় ফেলব','পুড়ে যাব','আগুনে পুড়িয়ে',\n",
        "           'সুইসাইড','সুইসাইডাল','সুইসাইডের','সুইসাইডে',\n",
        "           'খুন', 'খুনি', 'খুনির',\n",
        "           'লাফ',\n",
        "           'বিষ','বিষের','বিষপান', 'বিষপানের',\n",
        "           'ঘুমের','বড়ি',\n",
        "           ]"
      ],
      "metadata": {
        "id": "S9nJQymC0jxJ"
      },
      "execution_count": null,
      "outputs": []
    },
    {
      "cell_type": "code",
      "source": [
        "self_harm = ['শেষ','ব্যথা',\n",
        "             'হত্যা','আত্মঘাতী','বিদায়','ছেড়ে','পুড়িয়ে','কেটে',\n",
        "\n",
        "\n",
        "\n",
        "             ]"
      ],
      "metadata": {
        "id": "sfdhRIKr0mLY"
      },
      "execution_count": null,
      "outputs": []
    },
    {
      "cell_type": "code",
      "source": [
        "fear = ['ভয়','ভীত','ভয়ঙ্কর',\n",
        "         'ভয়ে', 'ভয়ের', 'ভয়েতে', 'ভয়',  'চিন্তা', 'চিন্তিত', 'চিন্তায়', 'চিন্তার', 'চিন্তাতে',\n",
        "        'দুশ্চিন্তাগ্রস্থ','দুশ্চিন্তা','দুশ্চিন্তার','দুশ্চিন্তায়',\n",
        "        ]"
      ],
      "metadata": {
        "id": "GjfFENam0qMg"
      },
      "execution_count": null,
      "outputs": []
    },
    {
      "cell_type": "code",
      "source": [
        "self_hatred = ['জঘন্য',\n",
        "               'ভুলগুলো',\n",
        "               'লজ্জিত','কলঙ্কিত',\n",
        "               'ঘৃণা','ঘৃণার','ঘৃণিত','ঘৃণায়',\n",
        "               'অনুশোচনা','অনুশোচনায়','অনুশোচনার','অনুশোচনাতে',\n",
        "               'ভুল','ভুলের','ভুলবশত',\n",
        "\n",
        "               ]"
      ],
      "metadata": {
        "id": "G5q8RfRP0sOR"
      },
      "execution_count": null,
      "outputs": []
    },
    {
      "cell_type": "code",
      "source": [
        "sorry_goodbye = ['দুঃখিত',\n",
        "         'মাফ',\n",
        "         'বিদায়','বিদায়বেলা','বিদায়ে','বিদায়ের','শেষ সময়',\n",
        "         'মাফের', 'ক্ষমা', 'ক্ষমার',\n",
        "\n",
        "         ]"
      ],
      "metadata": {
        "id": "huiAneF54L6c"
      },
      "execution_count": null,
      "outputs": []
    },
    {
      "cell_type": "code",
      "source": [
        "need_help = ['সাহায্য','সাহায্য দরকার','সাহায্যের প্রয়োজন','সাহায্যের দরকার','হেল্প',\n",
        "             'বাঁচাও','বাঁচানোর', 'বাঁচান','বাচাও','বেঁচে','বাঁচব','বাঁচো','বাঁচবো','বাঁচানো','বাঁচতে','বাঁচার','বাচা','বাচানো','বাচতে','বাচি'\n",
        "\n",
        "\n",
        "             ]"
      ],
      "metadata": {
        "id": "4oYbEkc45NbJ"
      },
      "execution_count": null,
      "outputs": []
    },
    {
      "cell_type": "code",
      "source": [
        "close_person = ['পরিবার','বন্ধু','বন্ধুবান্ধব','গার্লফ্রেন্ড','স্ত্রী','বয়ফ্রেন্ড','প্রেমিক','প্রেমিকা','প্রেমিকার','প্রেমিকাতে','প্রেমিকাকে',\n",
        "                'প্রেমিকের','প্রেমিককে','স্বামীকে','স্বামী','স্বামীর','বয়ফ্রেন্ড','বয়ফ্রেন্ডকে','পরিবারকে','পরিবারের',\n",
        "                'ফেমেলি','ফেমেলিকে','ফেমেলিতে','ফেমেলির',\n",
        "                'ফ্যামিলি','ফ্যামিলির','ফ্যামিলিতে',\n",
        "                ]"
      ],
      "metadata": {
        "id": "km-UpSTj5qLz"
      },
      "execution_count": null,
      "outputs": []
    },
    {
      "cell_type": "code",
      "source": [
        "hopeless_unworthy = ['হতাশা','হতাশায়','হতাশার','হতাশাতে',\n",
        "                     'নিরাশা','নিরাশ','নিরাশায়','নিরাশার',\n",
        "                     'ব্যর্থতা','ব্যর্থ','ব্যর্থতাতে','ব্যর্থতায়','ব্যর্থতার',\n",
        "                     'পরাজিত','পরাজয়','পরাজয়ের','পরাজয়ে',\n",
        "                     'মূল্যহীন',\n",
        "                     'তুচ্ছ',\n",
        "                     ]"
      ],
      "metadata": {
        "id": "rjkeY6uu06q6"
      },
      "execution_count": null,
      "outputs": []
    },
    {
      "cell_type": "code",
      "source": [
        "happiness = ['খুশি',\n",
        "             'শান্তিতে',\n",
        "             'আনন্দ','প্রফুল্ল',\n",
        "             'ভালো','ভালোর','ভালো আছি','হাসি','হাসিতে','হাসির','হাসিখুশি',\n",
        "             'মজা','মজার','বিনোদন','আনন্দিত','আনন্দের','আনন্দদায়ক','মজাদার','চমৎকার','খুশির','সৌভাগ্য','সৌভাগ্যের',\n",
        "             ]"
      ],
      "metadata": {
        "id": "4VV67KRH0xqv"
      },
      "execution_count": null,
      "outputs": []
    },
    {
      "cell_type": "code",
      "source": [
        "love = ['ভালোবাসার','ভালোবাসে','সুখ','সুখি','সুখের','ভালোবাসা','ভালোবাসায়','ভালোবাসি', 'ভালোবাসতে', 'ভালোবাসায়', 'ভালোবেসে',\n",
        "        'পছন্দের','পছন্দ','পছন্দে','পছন্দনীয়','সম্পর্ক',\n",
        "\n",
        "        ]"
      ],
      "metadata": {
        "id": "HzdaGuqv0z0w"
      },
      "execution_count": null,
      "outputs": []
    },
    {
      "cell_type": "code",
      "source": [
        "positive = ['ভালো','সততা','বুদ্ধি','অধ্যাবসায়','জ্ঞান','আলো',\n",
        "            'সুন্দর','সুন্দরী','সৌন্দর্য','অপরূপ','অপরূপা',\n",
        "            'মজার',\n",
        "            'প্রতিভা','প্রতিভাবান',\n",
        "            'প্রতিভাবান','শ্রদ্ধা','শ্রদ্ধের','সহানুভুতিশীল','ভাবনা',\n",
        "            'নাচা','নাচাতেন','নাচতেন','নাচ','নাচানো','নাচতে','নাচানাচি',\n",
        "            'গাওয়া','গান','গাইতেন','গাইতে','গায়ক',\n",
        "            'উন্নত','উন্নয়ন','উন্নয়নশিল','উন্নতিতে',\n",
        "            'ধন্যবাদ','স্বাগতম','শুভেচ্ছা','শুভ','সোহাগ','আদরের','আদরে','আদর',\n",
        "            'যত্নশীল','যত্ন','যত্নে','যত্নের','যতন',\n",
        "            'সম্মান','সম্মানের','সম্মানীয়','মহান','সসম্মানে','সসম্মান',\n",
        "            'বড়','বেড়েছে','বেড়ে','বাড়ানো',\n",
        "\n",
        "            ]"
      ],
      "metadata": {
        "id": "-LzBMUWI3xTS"
      },
      "execution_count": null,
      "outputs": []
    },
    {
      "cell_type": "code",
      "source": [
        "def get_catagory(word):\n",
        "  if word in sad:\n",
        "    return 0;\n",
        "  elif word in negative:\n",
        "    return 1;\n",
        "  elif word in anger:\n",
        "    return 2;\n",
        "  elif word in suicide:\n",
        "    return 3;\n",
        "  elif word in self_harm:\n",
        "    return 4;\n",
        "  elif word in fear:\n",
        "    return 5;\n",
        "  elif word in self_hatred:\n",
        "    return 6;\n",
        "  elif word in sorry_goodbye:\n",
        "    return 7;\n",
        "  elif word in need_help:\n",
        "    return 8;\n",
        "  elif word in close_person:\n",
        "    return 9;\n",
        "  elif word in hopeless_unworthy:\n",
        "    return 10;\n",
        "  elif word in happiness:\n",
        "    return 11;\n",
        "  elif word in love:\n",
        "    return 12;\n",
        "  elif word in positive:\n",
        "    return 13;\n",
        "  else:\n",
        "    return 14;"
      ],
      "metadata": {
        "id": "pekA-Avy9KHw"
      },
      "execution_count": null,
      "outputs": []
    },
    {
      "cell_type": "code",
      "source": [
        "Xs = [];\n",
        "Ys = [];\n",
        "for i in range(len(df)):\n",
        "    tokens = df[\"text\"][i].split()\n",
        "    val = 0;\n",
        "    if df[\"label\"][i] == \"suicide\":\n",
        "      val = 1;\n",
        "    catagory = []\n",
        "    for j in range(15):\n",
        "      catagory.append(0);\n",
        "    for j in tokens:\n",
        "      catagory[get_catagory(j)]+=1;\n",
        "   ; Xs.append(catagory)\n",
        "    Ys.append(val);"
      ],
      "metadata": {
        "id": "VpGMQR2hrcJj"
      },
      "execution_count": null,
      "outputs": []
    },
    {
      "cell_type": "code",
      "source": [
        "from sklearn.model_selection import train_test_split\n",
        "X_train, X_test, y_train, y_test = train_test_split(Xs, Ys, test_size=0.20, random_state=42)"
      ],
      "metadata": {
        "id": "vicR6NzNxWZz"
      },
      "execution_count": null,
      "outputs": []
    },
    {
      "cell_type": "markdown",
      "source": [
        "LOGISTIC REGRESSION"
      ],
      "metadata": {
        "id": "9HGk9jNQGqdo"
      }
    },
    {
      "cell_type": "code",
      "source": [
        "from sklearn.linear_model import LogisticRegression\n",
        "lgr = LogisticRegression(random_state=0).fit(X_train, y_train)\n"
      ],
      "metadata": {
        "id": "Nbi5exhF-rRk"
      },
      "execution_count": null,
      "outputs": []
    },
    {
      "cell_type": "code",
      "source": [
        "y_pred = lgr.predict(X_test)\n",
        "#y_pred"
      ],
      "metadata": {
        "id": "60WG7nAfx9x9"
      },
      "execution_count": null,
      "outputs": []
    },
    {
      "cell_type": "code",
      "source": [
        "from sklearn.metrics import accuracy_score, confusion_matrix\n",
        "from sklearn.metrics import classification_report\n",
        "from sklearn import metrics"
      ],
      "metadata": {
        "id": "9jkdxDTtGjF2"
      },
      "execution_count": null,
      "outputs": []
    },
    {
      "cell_type": "code",
      "source": [
        "print(classification_report(y_pred,y_test))"
      ],
      "metadata": {
        "id": "Zo379b5fyQGh",
        "colab": {
          "base_uri": "https://localhost:8080/"
        },
        "outputId": "a896900c-5d4a-49a4-cb5b-29b510e30c27"
      },
      "execution_count": null,
      "outputs": [
        {
          "output_type": "stream",
          "name": "stdout",
          "text": [
            "              precision    recall  f1-score   support\n",
            "\n",
            "           0       0.96      0.85      0.90       288\n",
            "           1       0.69      0.90      0.78       107\n",
            "\n",
            "    accuracy                           0.86       395\n",
            "   macro avg       0.82      0.87      0.84       395\n",
            "weighted avg       0.88      0.86      0.87       395\n",
            "\n"
          ]
        }
      ]
    },
    {
      "cell_type": "code",
      "source": [
        "#draw confusion matrix for report\n",
        "confusion_matrix = metrics.confusion_matrix(y_test, y_pred)\n",
        "cm_display = metrics.ConfusionMatrixDisplay(confusion_matrix = confusion_matrix, display_labels = [False, True])\n",
        "\n",
        "cm_display.plot()\n",
        "plt.show()"
      ],
      "metadata": {
        "id": "gsF6ac9VF9ei",
        "colab": {
          "base_uri": "https://localhost:8080/",
          "height": 279
        },
        "outputId": "f8c492fa-0a70-4e03-bdf7-796bf4ea683c"
      },
      "execution_count": null,
      "outputs": [
        {
          "output_type": "display_data",
          "data": {
            "text/plain": [
              "<Figure size 432x288 with 2 Axes>"
            ],
            "image/png": "[encoded data removed]"
          },
          "metadata": {
            "needs_background": "light"
          }
        }
      ]
    },
    {
      "cell_type": "markdown",
      "source": [
        "SUPPORT VECTOR MACHINE"
      ],
      "metadata": {
        "id": "EjqdrD41GvBj"
      }
    },
    {
      "cell_type": "code",
      "source": [
        "from sklearn.svm import SVC\n",
        "svc_model = SVC(C= .1, kernel='linear', gamma= 1)\n",
        "svc_model.fit(X_train, y_train)\n",
        "\n",
        "y_pred = svc_model.predict(X_test)\n",
        "#y_pred"
      ],
      "metadata": {
        "id": "_j7CqogyGoIy"
      },
      "execution_count": null,
      "outputs": []
    },
    {
      "cell_type": "code",
      "source": [
        "print(classification_report(y_pred,y_test))"
      ],
      "metadata": {
        "id": "F3pHQcB1Yma4",
        "colab": {
          "base_uri": "https://localhost:8080/"
        },
        "outputId": "60169176-30bc-44d3-a93f-085ea0a3cfe3"
      },
      "execution_count": null,
      "outputs": [
        {
          "output_type": "stream",
          "name": "stdout",
          "text": [
            "              precision    recall  f1-score   support\n",
            "\n",
            "           0       0.92      0.87      0.89       269\n",
            "           1       0.75      0.83      0.79       126\n",
            "\n",
            "    accuracy                           0.86       395\n",
            "   macro avg       0.83      0.85      0.84       395\n",
            "weighted avg       0.86      0.86      0.86       395\n",
            "\n"
          ]
        }
      ]
    },
    {
      "cell_type": "code",
      "source": [
        "confusion_matrix = metrics.confusion_matrix(y_test, y_pred)\n",
        "cm_display = metrics.ConfusionMatrixDisplay(confusion_matrix = confusion_matrix, display_labels = [False, True])\n",
        "\n",
        "cm_display.plot()\n",
        "plt.show()"
      ],
      "metadata": {
        "colab": {
          "base_uri": "https://localhost:8080/",
          "height": 279
        },
        "id": "qysyDHPdeoyr",
        "outputId": "fcb61f80-7254-4e64-b979-769b96fcb8a1"
      },
      "execution_count": null,
      "outputs": [
        {
          "output_type": "display_data",
          "data": {
            "text/plain": [
              "<Figure size 432x288 with 2 Axes>"
            ],
            "image/png": "[encoded data removed]"
          },
          "metadata": {
            "needs_background": "light"
          }
        }
      ]
    },
    {
      "cell_type": "markdown",
      "source": [
        "DECISION TREE CLASSIFIER"
      ],
      "metadata": {
        "id": "iN-UA5hWH3Pi"
      }
    },
    {
      "cell_type": "code",
      "source": [
        "from sklearn.tree import DecisionTreeClassifier"
      ],
      "metadata": {
        "id": "inGqGZ8vH8Kr"
      },
      "execution_count": null,
      "outputs": []
    },
    {
      "cell_type": "code",
      "source": [
        "dtc = DecisionTreeClassifier()\n",
        "dtc = dtc.fit(X_train,y_train)\n",
        "y_pred = dtc.predict(X_test)\n",
        "#y_pred\n",
        "print(classification_report(y_pred,y_test))"
      ],
      "metadata": {
        "id": "P3c3I29XIkRK",
        "colab": {
          "base_uri": "https://localhost:8080/"
        },
        "outputId": "6c2543b4-64a5-491a-bd21-4638c15d0b1c"
      },
      "execution_count": null,
      "outputs": [
        {
          "output_type": "stream",
          "name": "stdout",
          "text": [
            "              precision    recall  f1-score   support\n",
            "\n",
            "           0       0.89      0.83      0.86       274\n",
            "           1       0.67      0.78      0.72       121\n",
            "\n",
            "    accuracy                           0.82       395\n",
            "   macro avg       0.78      0.80      0.79       395\n",
            "weighted avg       0.83      0.82      0.82       395\n",
            "\n"
          ]
        }
      ]
    },
    {
      "cell_type": "code",
      "source": [
        "confusion_matrix = metrics.confusion_matrix(y_test, y_pred)\n",
        "cm_display = metrics.ConfusionMatrixDisplay(confusion_matrix = confusion_matrix, display_labels = [False, True])\n",
        "\n",
        "cm_display.plot()\n",
        "plt.show()"
      ],
      "metadata": {
        "colab": {
          "base_uri": "https://localhost:8080/",
          "height": 280
        },
        "id": "U9AxcxUAfdLW",
        "outputId": "52137912-0160-4edc-baf6-7161fe259bc2"
      },
      "execution_count": null,
      "outputs": [
        {
          "output_type": "display_data",
          "data": {
            "text/plain": [
              "<Figure size 432x288 with 2 Axes>"
            ],
            "image/png": "[encoded data removed]"
          },
          "metadata": {
            "needs_background": "light"
          }
        }
      ]
    },
    {
      "cell_type": "markdown",
      "source": [
        "RANDOM FOREST CLASSIRFIER"
      ],
      "metadata": {
        "id": "in_3PqvrKQnL"
      }
    },
    {
      "cell_type": "code",
      "source": [
        "from sklearn.ensemble import RandomForestClassifier\n",
        "rfc = RandomForestClassifier(n_estimators = 100)\n",
        "rfc.fit(X_train,y_train)\n",
        "y_pred=rfc.predict(X_test)\n",
        "#print(\"Accuracy by random forest classifier is :\",100*metrics.accuracy_score(y_test, y_pred))\n",
        "print(classification_report(y_pred,y_test))"
      ],
      "metadata": {
        "id": "QWHMzsPYKRaW",
        "colab": {
          "base_uri": "https://localhost:8080/"
        },
        "outputId": "3de89bf4-92d7-4f1c-d085-4fc5bfe3fb7c"
      },
      "execution_count": null,
      "outputs": [
        {
          "output_type": "stream",
          "name": "stdout",
          "text": [
            "              precision    recall  f1-score   support\n",
            "\n",
            "           0       0.91      0.86      0.89       269\n",
            "           1       0.74      0.82      0.77       126\n",
            "\n",
            "    accuracy                           0.85       395\n",
            "   macro avg       0.82      0.84      0.83       395\n",
            "weighted avg       0.85      0.85      0.85       395\n",
            "\n"
          ]
        }
      ]
    },
    {
      "cell_type": "code",
      "source": [
        "confusion_matrix = metrics.confusion_matrix(y_test, y_pred)\n",
        "cm_display = metrics.ConfusionMatrixDisplay(confusion_matrix = confusion_matrix, display_labels = [False, True])\n",
        "\n",
        "cm_display.plot()\n",
        "plt.show()"
      ],
      "metadata": {
        "colab": {
          "base_uri": "https://localhost:8080/",
          "height": 279
        },
        "id": "YgaFTGLIgGTl",
        "outputId": "d32efbb1-d486-4b2d-a1b1-997ce0434942"
      },
      "execution_count": null,
      "outputs": [
        {
          "output_type": "display_data",
          "data": {
            "text/plain": [
              "<Figure size 432x288 with 2 Axes>"
            ],
            "image/png": "[encoded data removed]"
          },
          "metadata": {
            "needs_background": "light"
          }
        }
      ]
    },
    {
      "cell_type": "markdown",
      "source": [
        "K-Nearest Neighbors"
      ],
      "metadata": {
        "id": "lMTgn72-Kd6v"
      }
    },
    {
      "cell_type": "code",
      "source": [
        "from sklearn.neighbors import KNeighborsClassifier\n",
        "knn = KNeighborsClassifier(n_neighbors=100)\n",
        "knn.fit(X_train, y_train)"
      ],
      "metadata": {
        "colab": {
          "base_uri": "https://localhost:8080/"
        },
        "id": "h-r0vElxKdMn",
        "outputId": "ffe0a1b3-8496-4d3b-a55d-81da6126ec03"
      },
      "execution_count": null,
      "outputs": [
        {
          "output_type": "execute_result",
          "data": {
            "text/plain": [
              "KNeighborsClassifier(n_neighbors=100)"
            ]
          },
          "metadata": {},
          "execution_count": 38
        }
      ]
    },
    {
      "cell_type": "code",
      "source": [
        "y_pred = knn.predict(X_test)\n",
        "#print(confusion_matrix(y_test, y_pred_knn))\n",
        "#print(classification_report(y_test, y_pred_knn))\n",
        "#print(\"Accuracy by k nearest classifier is :\",100*metrics.accuracy_score(y_test, y_pred))\n",
        "print(classification_report(y_pred,y_test))"
      ],
      "metadata": {
        "id": "qlpS-3oTKmdc",
        "colab": {
          "base_uri": "https://localhost:8080/"
        },
        "outputId": "7c00ab8c-9962-41e3-ead1-6f4a5d9d84fb"
      },
      "execution_count": null,
      "outputs": [
        {
          "output_type": "stream",
          "name": "stdout",
          "text": [
            "              precision    recall  f1-score   support\n",
            "\n",
            "           0       0.88      0.81      0.85       275\n",
            "           1       0.64      0.74      0.68       120\n",
            "\n",
            "    accuracy                           0.79       395\n",
            "   macro avg       0.76      0.78      0.76       395\n",
            "weighted avg       0.80      0.79      0.80       395\n",
            "\n"
          ]
        }
      ]
    },
    {
      "cell_type": "code",
      "source": [
        "confusion_matrix = metrics.confusion_matrix(y_test, y_pred)\n",
        "cm_display = metrics.ConfusionMatrixDisplay(confusion_matrix = confusion_matrix, display_labels = [False, True])\n",
        "\n",
        "cm_display.plot()\n",
        "plt.show()"
      ],
      "metadata": {
        "colab": {
          "base_uri": "https://localhost:8080/",
          "height": 279
        },
        "id": "hRiPr8_GgSCa",
        "outputId": "9b36c0d7-ec20-4181-ceee-269414011ff0"
      },
      "execution_count": null,
      "outputs": [
        {
          "output_type": "display_data",
          "data": {
            "text/plain": [
              "<Figure size 432x288 with 2 Axes>"
            ],
            "image/png": "[encoded data removed]"
          },
          "metadata": {
            "needs_background": "light"
          }
        }
      ]
    },
    {
      "cell_type": "markdown",
      "source": [
        "NAIVE BAYES"
      ],
      "metadata": {
        "id": "xqOJIJzq9VEl"
      }
    },
    {
      "cell_type": "code",
      "source": [
        "from sklearn.naive_bayes import GaussianNB\n",
        "gnb = GaussianNB()\n",
        "gnb.fit(X_train, y_train)\n",
        "y_pred = gnb.predict(X_test)"
      ],
      "metadata": {
        "id": "NOGv2ULh9XfX"
      },
      "execution_count": null,
      "outputs": []
    },
    {
      "cell_type": "code",
      "source": [
        "print(classification_report(y_pred,y_test))"
      ],
      "metadata": {
        "id": "zmgyTGuN9ab0",
        "colab": {
          "base_uri": "https://localhost:8080/"
        },
        "outputId": "6e27f5da-22d8-4278-8cb7-721767868217"
      },
      "execution_count": null,
      "outputs": [
        {
          "output_type": "stream",
          "name": "stdout",
          "text": [
            "              precision    recall  f1-score   support\n",
            "\n",
            "           0       0.93      0.85      0.88       279\n",
            "           1       0.69      0.84      0.76       116\n",
            "\n",
            "    accuracy                           0.84       395\n",
            "   macro avg       0.81      0.84      0.82       395\n",
            "weighted avg       0.86      0.84      0.85       395\n",
            "\n"
          ]
        }
      ]
    },
    {
      "cell_type": "code",
      "source": [
        "confusion_matrix = metrics.confusion_matrix(y_test, y_pred)\n",
        "cm_display = metrics.ConfusionMatrixDisplay(confusion_matrix = confusion_matrix, display_labels = [False, True])\n",
        "\n",
        "cm_display.plot()\n",
        "plt.show()"
      ],
      "metadata": {
        "colab": {
          "base_uri": "https://localhost:8080/",
          "height": 279
        },
        "id": "kS_UKCPognUo",
        "outputId": "a5948137-1d36-4e35-d4c9-2725219bc804"
      },
      "execution_count": null,
      "outputs": [
        {
          "output_type": "display_data",
          "data": {
            "text/plain": [
              "<Figure size 432x288 with 2 Axes>"
            ],
            "image/png": "[encoded data removed]"
          },
          "metadata": {
            "needs_background": "light"
          }
        }
      ]
    },
    {
      "cell_type": "code",
      "source": [
        "def give_vector(cur_text):\n",
        "  ret = [];\n",
        "  for i in range(15):\n",
        "    ret.append(0);\n",
        "  tok = cur_text.split()\n",
        "  for i in tok:\n",
        "    ret[get_catagory(i)]+=1;\n",
        "  return ret"
      ],
      "metadata": {
        "id": "jLg54SVtM7x5"
      },
      "execution_count": null,
      "outputs": []
    },
    {
      "cell_type": "code",
      "source": [
        "def give_vector(cur_text):\n",
        "  ret = [];\n",
        "  for i in range(15):\n",
        "    ret.append(0);\n",
        "  tok = word_tokenize(cur_text)\n",
        "  #tok = tk.tokenize(cur_text)\n",
        "  for i in tok:\n",
        "    ret[get_catagory(i)]+=1;\n",
        "  return ret"
      ],
      "metadata": {
        "id": "fZFjPSJ9ix4C"
      },
      "execution_count": null,
      "outputs": []
    },
    {
      "cell_type": "code",
      "source": [
        "cur = [];\n",
        "cur2 = [];\n",
        "for i in range(15):\n",
        "  cur.append(0);\n",
        "  cur2.append(0);\n",
        "cur_text1 = 'আমি মরতে চাই এই দুনিয়াতে আর থাকতে চাই না জীবনে কষ্ট ছাড়া কিছু পেলাম না';\n",
        "cur_text2 = 'পদ্মানদীর মাঝি ১৯৯৩ সালের একটি বাংলা ভাষায় নির্মিত বাংলাদেশ এবং ভারতের যৌথভাবে নির্মিত চলচ্চিত্র। বাঙালি কথা সাহিত্যিক মানিক বন্দ্যোপাধ্যায় রচিত একই নামের উপন্যাস অবলম্বনে গৌতম ঘোষ চলচ্চিত্রটি নির্মাণ করেন। এতে অভিনয় করেন - রাইসুল ইসলাম আসাদ, চম্পা, রূপা গঙ্গোপাধ্যায়, উৎপল দত্ত প্রমূখ'\n",
        "tokens1 = cur_text1.split()\n",
        "tokens2 = cur_text2.split()\n",
        "for i in tokens:\n",
        " cur[get_catagory(i)]+=1;\n",
        "for i in tokens2:\n",
        "  cur2[get_catagory(i)]+=1;\n"
      ],
      "metadata": {
        "id": "jWvBeFJ5AkQs"
      },
      "execution_count": null,
      "outputs": []
    },
    {
      "cell_type": "code",
      "source": [
        "test_now = []\n",
        "test_now.append(cur)\n",
        "test_now.append(cur2)"
      ],
      "metadata": {
        "id": "5t-v9EJcBcq1"
      },
      "execution_count": null,
      "outputs": []
    },
    {
      "cell_type": "code",
      "source": [
        "y_pred = lgr.predict(test_now)\n",
        "y_pred"
      ],
      "metadata": {
        "colab": {
          "base_uri": "https://localhost:8080/"
        },
        "id": "_qEUT0M2ynWB",
        "outputId": "7387ba12-31cd-4a94-a3a3-3e06f4170f55"
      },
      "execution_count": null,
      "outputs": [
        {
          "output_type": "execute_result",
          "data": {
            "text/plain": [
              "array([1, 0])"
            ]
          },
          "metadata": {},
          "execution_count": 45
        }
      ]
    }
  ]
}